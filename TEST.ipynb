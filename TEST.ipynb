{
 "cells": [
  {
   "cell_type": "code",
   "execution_count": 2,
   "metadata": {},
   "outputs": [],
   "source": [
    "import cv2\n",
    "from pathlib import Path\n",
    "import matplotlib.pyplot as plt"
   ]
  },
  {
   "cell_type": "code",
   "execution_count": 5,
   "metadata": {},
   "outputs": [],
   "source": [
    "folder = 'data/DATASETS/'\n",
    "BANDS = ['B2','B3','B4','B8']\n",
    "# fig, ax = plt.subplots(1,4, dpi=200)\n",
    "IMGS = []\n",
    "for idx, band in enumerate(BANDS):\n",
    "     myPath = Path(folder + band)\n",
    "     images = [x for x in myPath.glob('**/*') if x.stem == 'subset_0_of_S2A_MSIL2A_20210605T102021_N0300_R065_T32UPF_20210605T132908']\n",
    "     img = cv2.imread(images[0].as_posix())\n",
    "     IMGS.append(img)\n",
    "     "
   ]
  },
  {
   "cell_type": "code",
   "execution_count": 8,
   "metadata": {},
   "outputs": [
    {
     "data": {
      "text/plain": [
       "array([[[ 72,  72,  72],\n",
       "        [ 58,  58,  58],\n",
       "        [243, 243, 243],\n",
       "        ...,\n",
       "        [180, 180, 180],\n",
       "        [ 37,  37,  37],\n",
       "        [ 29,  29,  29]],\n",
       "\n",
       "       [[113, 113, 113],\n",
       "        [ 98,  98,  98],\n",
       "        [ 85,  85,  85],\n",
       "        ...,\n",
       "        [183, 183, 183],\n",
       "        [165, 165, 165],\n",
       "        [154, 154, 154]],\n",
       "\n",
       "       [[ 39,  39,  39],\n",
       "        [ 45,  45,  45],\n",
       "        [ 78,  78,  78],\n",
       "        ...,\n",
       "        [248, 248, 248],\n",
       "        [ 54,  54,  54],\n",
       "        [199, 199, 199]],\n",
       "\n",
       "       ...,\n",
       "\n",
       "       [[ 49,  49,  49],\n",
       "        [251, 251, 251],\n",
       "        [ 53,  53,  53],\n",
       "        ...,\n",
       "        [211, 211, 211],\n",
       "        [226, 226, 226],\n",
       "        [176, 176, 176]],\n",
       "\n",
       "       [[246, 246, 246],\n",
       "        [215, 215, 215],\n",
       "        [141, 141, 141],\n",
       "        ...,\n",
       "        [ 27,  27,  27],\n",
       "        [ 51,  51,  51],\n",
       "        [153, 153, 153]],\n",
       "\n",
       "       [[247, 247, 247],\n",
       "        [104, 104, 104],\n",
       "        [  3,   3,   3],\n",
       "        ...,\n",
       "        [254, 254, 254],\n",
       "        [215, 215, 215],\n",
       "        [230, 230, 230]]], dtype=uint8)"
      ]
     },
     "execution_count": 8,
     "metadata": {},
     "output_type": "execute_result"
    }
   ],
   "source": [
    "IMGS[0]-IMGS[3]"
   ]
  }
 ],
 "metadata": {
  "kernelspec": {
   "display_name": "Python 3.7.13 ('mmdetection')",
   "language": "python",
   "name": "python3"
  },
  "language_info": {
   "codemirror_mode": {
    "name": "ipython",
    "version": 3
   },
   "file_extension": ".py",
   "mimetype": "text/x-python",
   "name": "python",
   "nbconvert_exporter": "python",
   "pygments_lexer": "ipython3",
   "version": "3.7.13"
  },
  "orig_nbformat": 4,
  "vscode": {
   "interpreter": {
    "hash": "c2b3a08a81cd45e0bc2a700d9045dbc9f86cb7496649aabfe12018a838ea0a4f"
   }
  }
 },
 "nbformat": 4,
 "nbformat_minor": 2
}
